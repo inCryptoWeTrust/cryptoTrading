{
 "cells": [
  {
   "cell_type": "markdown",
   "metadata": {},
   "source": [
    "# 1. 交易环境 trading environment"
   ]
  },
  {
   "cell_type": "markdown",
   "metadata": {},
   "source": [
    "- ### 申请开通海外服务器\n",
    "开通 aws、google cloud、aliyun 等云服务器厂商的实例    \n",
    "并安装 ubuntu/linux 系统，介绍常见操作及`tmux`    "
   ]
  },
  {
   "cell_type": "code",
   "execution_count": null,
   "metadata": {},
   "outputs": [],
   "source": []
  },
  {
   "cell_type": "markdown",
   "metadata": {},
   "source": [
    "- ###  `python` 环境\n",
    "使用 `miniconda` 配置 python 环境，并安装 `ccxt` 交易所`api`库 和 `numpy` 等高效计算库\n",
    "  （可能还需要安装 `gcc`）    \n",
    "  使用 `jupyterLab` 进行远程调试"
   ]
  },
  {
   "cell_type": "code",
   "execution_count": null,
   "metadata": {},
   "outputs": [],
   "source": []
  },
  {
   "cell_type": "markdown",
   "metadata": {},
   "source": [
    "- ### `node·js` 环境\n",
    "  使用 `nvm` 配置 `node·javascript` 环境，并安装 ccxt"
   ]
  },
  {
   "cell_type": "code",
   "execution_count": null,
   "metadata": {},
   "outputs": [],
   "source": []
  },
  {
   "cell_type": "markdown",
   "metadata": {},
   "source": [
    "- ### ToDo\n",
    "  docker 环境    \n",
    "  包含 redis、rabbitMQ、tensorflow、及 java与交易相关的各种依赖"
   ]
  },
  {
   "cell_type": "code",
   "execution_count": null,
   "metadata": {},
   "outputs": [],
   "source": []
  }
 ],
 "metadata": {
  "kernelspec": {
   "display_name": "Python 3",
   "language": "python",
   "name": "python3"
  },
  "language_info": {
   "codemirror_mode": {
    "name": "ipython",
    "version": 3
   },
   "file_extension": ".py",
   "mimetype": "text/x-python",
   "name": "python",
   "nbconvert_exporter": "python",
   "pygments_lexer": "ipython3",
   "version": "3.6.4"
  }
 },
 "nbformat": 4,
 "nbformat_minor": 2
}
